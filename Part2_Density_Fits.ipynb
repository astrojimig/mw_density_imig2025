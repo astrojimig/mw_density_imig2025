{
 "cells": [
  {
   "cell_type": "markdown",
   "metadata": {},
   "source": [
    "# Part 2: Perform the MCMC Density Fits\n",
    "\n",
    "This notebook is Part 2 of the code for reproducing [Imig et al 2025](https://astrojimig.github.io/pdfs/Imig_MW_density.pdf). In this notebook, the effective selection function calcualted in Part 1 is applied to fit the density profile of each stellar population with an MCMC likelihood optimization."
   ]
  },
  {
   "cell_type": "code",
   "execution_count": null,
   "metadata": {},
   "outputs": [],
   "source": [
    "import numpy as np\n",
    "import matplotlib.pyplot as plt\n",
    "import astropy.io.fits as fits\n",
    "import os\n",
    "\n",
    "from mw_density import sample_selection, plotting_helpers, mcmc_functions\n",
    "from mw_density.selection_function import SelectionFunction\n",
    "\n",
    "sample_selection.set_env_variables()"
   ]
  },
  {
   "cell_type": "code",
   "execution_count": null,
   "metadata": {},
   "outputs": [],
   "source": [
    "# Define Plotting Parameters\n",
    "params = {\n",
    "    \"axes.labelsize\": 36,\n",
    "    \"xtick.labelsize\": 36,\n",
    "    \"ytick.labelsize\": 36,\n",
    "    \"text.usetex\": False,\n",
    "    \"lines.linewidth\": 1,\n",
    "    \"axes.titlesize\": 22,\n",
    "    \"font.family\": \"serif\",\n",
    "    \"font.size\": 36,\n",
    "}\n",
    "plt.rcParams.update(params)"
   ]
  },
  {
   "cell_type": "code",
   "execution_count": null,
   "metadata": {},
   "outputs": [],
   "source": [
    "# Unique ID for saving files\n",
    "unique_id = \"4-22-25\""
   ]
  },
  {
   "cell_type": "markdown",
   "metadata": {},
   "source": []
  },
  {
   "cell_type": "markdown",
   "metadata": {},
   "source": [
    "## 2A: Data Set Up\n",
    "\n",
    "### Load in Files"
   ]
  },
  {
   "cell_type": "code",
   "execution_count": null,
   "metadata": {},
   "outputs": [],
   "source": [
    "# ===========================\n",
    "# Load in Selection Function\n",
    "# ===========================\n",
    "selfunc = SelectionFunction()"
   ]
  },
  {
   "cell_type": "markdown",
   "metadata": {},
   "source": [
    "### Sample Definition"
   ]
  },
  {
   "cell_type": "code",
   "execution_count": null,
   "metadata": {},
   "outputs": [],
   "source": [
    "age_bins, mh_bins = sample_selection.setup_maap_bins()\n",
    "apogee_sample = fits.open(\"data/apogee_sample.fits\")[1].data\n",
    "\n",
    "logg_min_lim = np.min(apogee_sample[\"LOGG\"])\n",
    "logg_max_lim = np.max(apogee_sample[\"LOGG\"])\n",
    "\n",
    "metals = apogee_sample[\"M_H\"]\n",
    "alphas = apogee_sample[\"ALPHA_M\"]\n",
    "ages = apogee_sample[\"AGE\"]\n",
    "data_rs = apogee_sample[\"GALACTIC_R\"]\n",
    "data_zs = apogee_sample[\"GALACTIC_Z\"]"
   ]
  },
  {
   "cell_type": "code",
   "execution_count": null,
   "metadata": {},
   "outputs": [],
   "source": [
    "print(f\"Total Number of stars in Sample: {len(metals)}\")"
   ]
  },
  {
   "cell_type": "markdown",
   "metadata": {},
   "source": [
    "### Count how many stars are in each stellar population bin"
   ]
  },
  {
   "cell_type": "code",
   "execution_count": null,
   "metadata": {},
   "outputs": [],
   "source": [
    "ncount_distmass_high = np.zeros(\n",
    "    (len(age_bins[\"center\"]), len(mh_bins[\"center\"]))\n",
    ")\n",
    "ncount_distmass_low = np.zeros(\n",
    "    (len(age_bins[\"center\"]), len(mh_bins[\"center\"]))\n",
    ")\n",
    "\n",
    "tot = len(age_bins[\"center\"]) * len(mh_bins[\"center\"])\n",
    "\n",
    "low_alph_mask, high_alph_mask = sample_selection.get_alpha_masks(apogee_sample)\n",
    "\n",
    "cnter = 0\n",
    "for i_a, age in enumerate(age_bins[\"center\"]):\n",
    "    for i_m, mh in enumerate(mh_bins[\"center\"]):\n",
    "        m = (apogee_sample[\"AGE_BIN_I\"] == i_a) & (\n",
    "            apogee_sample[\"METAL_BIN_I\"] == i_m\n",
    "        )\n",
    "        hm = m & high_alph_mask\n",
    "        lm = m & low_alph_mask\n",
    "        ncount_distmass_high[i_a, i_m] = len(hm[hm])\n",
    "        ncount_distmass_low[i_a, i_m] = len(lm[lm])\n",
    "\n",
    "        cnter += 1\n",
    "        # print('{}/{}'.format(cnter,tot))"
   ]
  },
  {
   "cell_type": "code",
   "execution_count": null,
   "metadata": {},
   "outputs": [],
   "source": [
    "plotting_helpers.bin_count_plot_histo(\n",
    "    ncount_distmass_low, ncount_distmass_high\n",
    ")"
   ]
  },
  {
   "cell_type": "code",
   "execution_count": null,
   "metadata": {},
   "outputs": [],
   "source": [
    "print(len(ncount_distmass_low.flatten()[ncount_distmass_low.flatten() > 100]))\n",
    "\n",
    "print(\n",
    "    len(ncount_distmass_high.flatten()[ncount_distmass_high.flatten() > 100])\n",
    ")\n",
    "\n",
    "print(\n",
    "    len(ncount_distmass_low.flatten()[ncount_distmass_low.flatten() > 100])\n",
    "    + len(ncount_distmass_high.flatten()[ncount_distmass_high.flatten() > 100])\n",
    ")\n"
   ]
  },
  {
   "cell_type": "markdown",
   "metadata": {},
   "source": [
    "## 2C: Perform the MCMC fits\n",
    "\n",
    "This generally takes a few minutes for each bin."
   ]
  },
  {
   "cell_type": "code",
   "execution_count": null,
   "metadata": {},
   "outputs": [],
   "source": [
    "# Set to FALSE if you want to preserve progress\n",
    "overwrite_files = False"
   ]
  },
  {
   "cell_type": "code",
   "execution_count": null,
   "metadata": {
    "scrolled": true
   },
   "outputs": [],
   "source": [
    "# High alpha bins\n",
    "bin_counter = 0\n",
    "N_bins = len(mh_bins[\"center\"]) * len(age_bins[\"center\"])\n",
    "\n",
    "# TESTBIN = 39\n",
    "# repeat_bins = [5,25,27,50,74] # select specific bins to re-run\n",
    "repeat_bins = []\n",
    "\n",
    "for i_m, mh in enumerate(mh_bins[\"center\"]):\n",
    "    for i_a, age in enumerate(age_bins[\"center\"]):\n",
    "        # Log basic data\n",
    "        print(\"=\" * 50)\n",
    "        print(f\"Bin {bin_counter + 1}/{N_bins}\")\n",
    "        fname = f\"results/mcmc_chains/bin{bin_counter}_{unique_id}_high.npz\"\n",
    "        # Check if file exists:\n",
    "        if not os.path.exists(fname) or (overwrite_files is True):\n",
    "            # Get effsel for this bin\n",
    "            bin_effsel = selfunc.effsel[bin_counter]\n",
    "            effsel_mask = (bin_effsel.flatten() != 0) & (\n",
    "                np.isfinite(bin_effsel.flatten())\n",
    "            )\n",
    "            bin_effsel_rs = selfunc.coordinates[\"r\"][effsel_mask]\n",
    "            bin_effsel_zs = selfunc.coordinates[\"z\"][effsel_mask]\n",
    "            bin_effsel = bin_effsel.flatten()[effsel_mask]\n",
    "            eff_volume = selfunc.calc_eff_survey_volume(bin_counter)\n",
    "\n",
    "            effsel_dict = {\n",
    "                \"bin_effsel\": bin_effsel,\n",
    "                \"bin_effsel_rs\": bin_effsel_rs,\n",
    "                \"bin_effsel_zs\": bin_effsel_zs,\n",
    "                \"eff_volume\": np.array(eff_volume[1])[effsel_mask],\n",
    "            }\n",
    "\n",
    "            # Run MCMC\n",
    "            mcmc_functions.perform_maap_density_fit(\n",
    "                apogee_sample, effsel_dict, i_m, i_a, \"HIGH\", fname, nthreads=8\n",
    "            )\n",
    "\n",
    "        else:  # File aready exists.\n",
    "            print(\n",
    "                f\"File {fname} already exists. Skipping bin. \"\n",
    "                \"Set overwrite_files=True to override)\"\n",
    "            )\n",
    "\n",
    "        bin_counter += 1\n"
   ]
  },
  {
   "cell_type": "code",
   "execution_count": null,
   "metadata": {},
   "outputs": [],
   "source": [
    "# Low alpha bins\n",
    "bin_counter = 0\n",
    "N_bins = len(mh_bins[\"center\"]) * len(age_bins[\"center\"])\n",
    "\n",
    "TESTBIN = 39\n",
    "# repeat_bins = [5,25,27,50,74] #bins with effsel problem\n",
    "repeat_bins = []\n",
    "\n",
    "for i_m, mh in enumerate(mh_bins[\"center\"]):\n",
    "    for i_a, age in enumerate(age_bins[\"center\"]):\n",
    "        # Log basic data\n",
    "        print(\"=\" * 50)\n",
    "        print(f\"Bin {bin_counter + 1}/{N_bins}\")\n",
    "\n",
    "        fname = f\"results/mcmc_chains/bin{bin_counter}_{unique_id}.npz\"\n",
    "        # Check if file exists:\n",
    "        if not os.path.exists(fname) or (overwrite_files is True):\n",
    "            # Get effsel for this bin\n",
    "            bin_effsel = selfunc.effsel[bin_counter]\n",
    "            effsel_mask = (bin_effsel.flatten() != 0) & (\n",
    "                np.isfinite(bin_effsel.flatten())\n",
    "            )\n",
    "            bin_effsel_rs = selfunc.coordinates[\"r\"][effsel_mask]\n",
    "            bin_effsel_zs = selfunc.coordinates[\"z\"][effsel_mask]\n",
    "            bin_effsel = bin_effsel.flatten()[effsel_mask]\n",
    "            eff_volume = selfunc.calc_eff_survey_volume(bin_counter)\n",
    "\n",
    "            effsel_dict = {\n",
    "                \"bin_effsel\": bin_effsel,\n",
    "                \"bin_effsel_rs\": bin_effsel_rs,\n",
    "                \"bin_effsel_zs\": bin_effsel_zs,\n",
    "                \"eff_volume\": np.array(eff_volume[1])[effsel_mask],\n",
    "            }\n",
    "            # Run MCMC\n",
    "            mcmc_functions.perform_maap_density_fit(\n",
    "                apogee_sample, effsel_dict, i_m, i_a, \"LOW\", fname, nthreads=8\n",
    "            )\n",
    "        else:  # File aready exists.\n",
    "            print(\n",
    "                f\"File {fname} already exists. Skipping bin.\"\n",
    "                \" (Set overwrite_files=True to override)\"\n",
    "            )\n",
    "\n",
    "        bin_counter += 1\n"
   ]
  },
  {
   "cell_type": "markdown",
   "metadata": {},
   "source": [
    "The best-fit parameters are saved out as a fits file in `make_results_file.ipynb`!"
   ]
  },
  {
   "cell_type": "code",
   "execution_count": null,
   "metadata": {},
   "outputs": [],
   "source": []
  }
 ],
 "metadata": {
  "kernelspec": {
   "display_name": "mwd",
   "language": "python",
   "name": "python3"
  },
  "language_info": {
   "codemirror_mode": {
    "name": "ipython",
    "version": 3
   },
   "file_extension": ".py",
   "mimetype": "text/x-python",
   "name": "python",
   "nbconvert_exporter": "python",
   "pygments_lexer": "ipython3",
   "version": "3.12.4"
  }
 },
 "nbformat": 4,
 "nbformat_minor": 4
}
