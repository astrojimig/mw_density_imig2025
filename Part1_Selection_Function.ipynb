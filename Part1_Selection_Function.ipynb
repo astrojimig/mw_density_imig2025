{
 "cells": [
  {
   "cell_type": "markdown",
   "metadata": {},
   "source": [
    "# Part 1: APOGEE Selection Function Calculation\n",
    "\n",
    "This notebook is the first part of three for reproducing [Imig et al 2023](https://astrojimig.github.io/pdfs/Imig_MW_density.pdf). In this notebook, we calculate the APOGEE Raw and Effective Selection Functions."
   ]
  },
  {
   "cell_type": "code",
   "execution_count": null,
   "metadata": {},
   "outputs": [],
   "source": [
    "import os\n",
    "import sys\n",
    "import numpy as np\n",
    "import matplotlib.pyplot as plt\n",
    "import matplotlib.patheffects as PathEffects\n",
    "import dill as pickle\n",
    "import astropy.io.fits as fits\n",
    "import time\n",
    "import pandas as pd\n",
    "import mwdust\n",
    "import multiprocessing as mp\n",
    "from tqdm import tqdm\n",
    "from numba import jit\n",
    "\n",
    "from sample_selection import set_env_variables, setup_maap_bins, distmod_bins\n",
    "\n",
    "set_env_variables()\n",
    "\n",
    "import apogee.select as apsel\n",
    "import apogee.tools.read as apread\n"
   ]
  },
  {
   "cell_type": "code",
   "execution_count": null,
   "metadata": {},
   "outputs": [],
   "source": [
    "# Define Plotting Parameters\n",
    "params = {\n",
    "    \"axes.labelsize\": 36,\n",
    "    \"xtick.labelsize\": 36,\n",
    "    \"ytick.labelsize\": 36,\n",
    "    \"text.usetex\": False,\n",
    "    \"lines.linewidth\": 1,\n",
    "    \"axes.titlesize\": 22,\n",
    "    \"font.family\": \"serif\",\n",
    "    \"font.size\": 36,\n",
    "}\n",
    "plt.rcParams.update(params)"
   ]
  },
  {
   "cell_type": "markdown",
   "metadata": {},
   "source": [
    "# Config Settings"
   ]
  },
  {
   "cell_type": "code",
   "execution_count": null,
   "metadata": {},
   "outputs": [],
   "source": [
    "# parallelize: use multiprocessing for calculating effective selection function (recommended)\n",
    "parallelize = False\n",
    "\n",
    "# savename: file format for saving effective selection function\n",
    "# in format '{savename}_{bin number}.npz'\n",
    "savename = \"apogee_effsel\"\n",
    "\n",
    "# Clobber: if TRUE, deletes all files and starts over from scratch\n",
    "clobber = False\n",
    "\n",
    "# dmap: choose your Dustmap\n",
    "dmap = mwdust.Combined19()\n"
   ]
  },
  {
   "cell_type": "markdown",
   "metadata": {},
   "source": [
    "# 1A: Calculate the Raw Selection Function\n",
    "\n",
    "This cell calculates the APOGEE Raw Selection Function (if the file doesn't alerady exist) using the `apogee` module.\n",
    "\n",
    "This step usually takes several hours."
   ]
  },
  {
   "cell_type": "code",
   "execution_count": null,
   "metadata": {},
   "outputs": [],
   "source": [
    "# Only calculate if path doesn't exist\n",
    "if os.path.exists(\"selfuncs/apogeeCombinedSF.dat\"):\n",
    "    with open(\"selfuncs/apogeeCombinedSF.dat\", \"rb\") as f:\n",
    "        apogee_selfunc = pickle.load(f)\n",
    "else:\n",
    "    allstar = apread.allStar(main=True, rmdups=True)\n",
    "    apogee_selfunc = apsel.apogeeCombinedSelect(year=10)\n",
    "    with open(\"selfuncs/apogeeCombinedSF.dat\", \"wb\") as f:\n",
    "        pickle.dump(apogee_selfunc, f)"
   ]
  },
  {
   "cell_type": "markdown",
   "metadata": {},
   "source": [
    "### Plot and Verify the Raw Selection Function"
   ]
  },
  {
   "cell_type": "code",
   "execution_count": null,
   "metadata": {},
   "outputs": [],
   "source": [
    "# Coordinates in glon and glat\n",
    "aposel_glons = np.array(\n",
    "    [apogee_selfunc.glonGlat(x)[0][0] for x in apogee_selfunc._locations]\n",
    ")\n",
    "aposel_glats = np.array(\n",
    "    [apogee_selfunc.glonGlat(x)[1][0] for x in apogee_selfunc._locations]\n",
    ")\n",
    "\n",
    "sel_fractions = (apogee_selfunc._nspec_short / apogee_selfunc._nphot_short).T[\n",
    "    0\n",
    "] * 100\n",
    "\n",
    "plt.figure(figsize=(20, 10))\n",
    "idx = np.argsort(sel_fractions)\n",
    "plt.scatter(\n",
    "    aposel_glons[idx],\n",
    "    aposel_glats[idx],\n",
    "    c=sel_fractions[idx],\n",
    "    vmin=0,\n",
    "    vmax=100,\n",
    "    cmap=\"viridis\",\n",
    "    s=50,\n",
    ")\n",
    "\n",
    "plt.colorbar(label=\"Selection Fraction (%)\")\n",
    "plt.title(\"Short Cohort\")\n",
    "plt.grid()\n",
    "plt.xlim(0, 360)\n",
    "plt.ylim(-90, 90)\n",
    "plt.xlabel(\"Galactic Longitude (deg)\")\n",
    "plt.ylabel(\"Galactic Latitude (deg)\")\n",
    "\n",
    "plt.show()"
   ]
  },
  {
   "cell_type": "markdown",
   "metadata": {},
   "source": [
    "## 1B: Calculate the Effective Selection Function\n",
    "\n",
    "Calcualte the Effective Selection Function on the grid of ages and metallicities definted by the data sample. This step requires a choice of isochrones and dust map."
   ]
  },
  {
   "cell_type": "code",
   "execution_count": null,
   "metadata": {},
   "outputs": [],
   "source": [
    "JHK_iso = pd.read_csv(\"isochrones/parsec_v3.dat\", sep=\"\\s+\", comment=\"#\")\n",
    "\n",
    "print(\"Isochrones cover:\")\n",
    "print(f\"[M/H]: {np.sort(list(set(JHK_iso['MH'])))}\")\n",
    "print(f\"log(age): {np.sort(list(set(JHK_iso['logAge'])))}\")"
   ]
  },
  {
   "cell_type": "code",
   "execution_count": null,
   "metadata": {},
   "outputs": [],
   "source": [
    "def add_deltaM_column(iso):\n",
    "    \"\"\"Adds a deltaM column to the isochrones\"\"\"\n",
    "    deltaM = []\n",
    "    for i in range(len(iso[\"MH\"])):\n",
    "        if (np.array(iso[\"MH\"])[i - 1] == np.array(iso[\"MH\"])[i]) & (\n",
    "            np.array(iso[\"logAge\"])[i - 1] == np.array(iso[\"logAge\"])[i]\n",
    "        ) == True:\n",
    "            deltaM.append(\n",
    "                np.array(iso[\"int_IMF\"])[i] - np.array(iso[\"int_IMF\"])[i - 1]\n",
    "            )\n",
    "        else:\n",
    "            deltaM.append(\n",
    "                np.array(iso[\"int_IMF\"])[i + 1] - np.array(iso[\"int_IMF\"])[i]\n",
    "            )\n",
    "\n",
    "    return np.array(deltaM)\n",
    "\n",
    "\n",
    "all_deltaMs = add_deltaM_column(JHK_iso)"
   ]
  },
  {
   "cell_type": "code",
   "execution_count": null,
   "metadata": {},
   "outputs": [],
   "source": [
    "def effsel_per_loc(i):\n",
    "    \"\"\"\n",
    "    computes the effective selection function along the line of sight of one APOGEE location.\n",
    "    \"\"\"\n",
    "    pbar.update(1)\n",
    "    loc = all_locations[i]\n",
    "    jkmin = apogee_selfunc.JKmin(loc)\n",
    "\n",
    "    # No observations\n",
    "    if (\n",
    "        np.sum(\n",
    "            [\n",
    "                np.nansum(apogee_selfunc._nspec_short[i]),\n",
    "                np.nansum(apogee_selfunc._nspec_medium[i]),\n",
    "                np.nansum(apogee_selfunc._nspec_long[i]),\n",
    "            ]\n",
    "        )\n",
    "        < 1.0\n",
    "    ):\n",
    "        effsel = np.zeros(len(ds))\n",
    "\n",
    "    # Valid color bin\n",
    "    if np.isfinite(jkmin):\n",
    "        # cut isochrone based on color bins\n",
    "        isom = np.where((J - K) >= jkmin)[0]\n",
    "        norm_weights = weights[isom] / np.nansum(weights[isom])\n",
    "        effsel = apof.__call__(\n",
    "            loc, ds, MH=H[isom], JK0=(J - K)[isom], weights=norm_weights\n",
    "        )  # *apo.area(loc)\n",
    "\n",
    "    # Color bin Nan\n",
    "    else:\n",
    "        # print(f'WARNING: Unknown colorbin {jkmin} for location {loc} ???')\n",
    "        effsel = np.ones(len(ds)) * np.nan\n",
    "\n",
    "    # except: #something else crashed, idk. something wrong with isochrone points?? need to fix this someday\n",
    "    #        #print('WARNING: Unknown error for location {} with colorbin {} ???'.format(loc,apo.JKmin(loc)))\n",
    "    #        effsel = np.ones(len(ds))*np.nan\n",
    "\n",
    "    # print(effsel)\n",
    "    return effsel"
   ]
  },
  {
   "cell_type": "code",
   "execution_count": null,
   "metadata": {},
   "outputs": [],
   "source": [
    "if clobber:\n",
    "    os.system(\"rm selfuncs/effsel_bins/*.npz\")"
   ]
  },
  {
   "cell_type": "code",
   "execution_count": null,
   "metadata": {},
   "outputs": [],
   "source": [
    "# Set up some parameters\n",
    "Nthreads = mp.cpu_count()\n",
    "\n",
    "bini = 0\n",
    "all_locations = apogee_selfunc._locations\n",
    "# redo some bins\n",
    "redo_bins = []\n",
    "\n",
    "# MAAP bin definition\n",
    "age_bins, mh_bins = setup_maap_bins()\n",
    "N_bins = len(age_bins[\"center\"]) * len(mh_bins[\"center\"])\n",
    "\n",
    "# logg limits\n",
    "apogee_sample = fits.open(\"apogee_sample.fits\")[1].data\n",
    "logg_min_lim = np.min(apogee_sample[\"LOGG\"])\n",
    "logg_max_lim = np.max(apogee_sample[\"LOGG\"])\n",
    "\n",
    "# Distance mod bins\n",
    "ndistmods, ds, distmods, minmax_distmods = distmod_bins()\n"
   ]
  },
  {
   "cell_type": "code",
   "execution_count": null,
   "metadata": {},
   "outputs": [],
   "source": [
    "apogee_sample"
   ]
  },
  {
   "cell_type": "code",
   "execution_count": null,
   "metadata": {},
   "outputs": [],
   "source": [
    "for i_f, f in enumerate(mh_bins[\"center\"]):\n",
    "    for i_a, a in enumerate(age_bins[\"center\"]):\n",
    "        log_a = round(np.log10(a * 1e9), 2)\n",
    "        f = round(f, 2)\n",
    "        print(\"=\" * 50)\n",
    "        print(f\"Bin {bini + 1}/{N_bins}\")\n",
    "        print(f\"[M/H] = {f} , logAge = {log_a}\")\n",
    "        print(\"=\" * 50)\n",
    "        bin_data_mask = (apogee_sample[\"METAL_BIN_I\"] == i_f) & (\n",
    "            apogee_sample[\"AGE_BIN_I\"] == i_a\n",
    "        )\n",
    "        starcount1 = len(\n",
    "            apogee_sample[\n",
    "                bin_data_mask & (apogee_sample[\"ALPHA_BIN\"] == \"LOW\")\n",
    "            ]\n",
    "        )\n",
    "        starcount2 = len(\n",
    "            apogee_sample[\n",
    "                bin_data_mask & (apogee_sample[\"ALPHA_BIN\"] == \"HIGH\")\n",
    "            ]\n",
    "        )\n",
    "        if (starcount1 < 100) & (starcount2 < 100):  # no stars, no need for SF\n",
    "            print(f\"{starcount1} + {starcount2} stars. Skipping bin.\")\n",
    "        else:\n",
    "            fname = f\"selfuncs/effsel_bins/{savename}_{bini}.npz\"\n",
    "            if (os.path.exists(fname) == False) & (bini not in redo_bins):\n",
    "                iso_mask = (JHK_iso[\"MH\"] == f) & (JHK_iso[\"logAge\"] == log_a)\n",
    "                iso_mask = (\n",
    "                    iso_mask\n",
    "                    & (JHK_iso[\"logg\"] <= logg_max_lim)\n",
    "                    & (JHK_iso[\"logg\"] >= logg_min_lim)\n",
    "                )\n",
    "                iso_mask = np.where(iso_mask)[0]\n",
    "                bin_iso = JHK_iso.iloc[iso_mask]\n",
    "                deltaMs = all_deltaMs[iso_mask]\n",
    "                m = deltaMs > 0\n",
    "                H, J, K = (\n",
    "                    bin_iso[\"Hmag\"][m],\n",
    "                    bin_iso[\"Jmag\"][m],\n",
    "                    bin_iso[\"Ksmag\"][m],\n",
    "                )\n",
    "                weights = deltaMs[m] / np.sum(deltaMs[m])\n",
    "                effsel_array = np.zeros((len(all_locations), ndistmods))\n",
    "                H = np.array(H)\n",
    "                J = np.array(J)\n",
    "                K = np.array(K)\n",
    "                # Initiate Selection Function\n",
    "                apof = apsel.apogeeEffectiveSelect(\n",
    "                    apogee_selfunc,\n",
    "                    dmap3d=dmap,\n",
    "                    MH=H,\n",
    "                    JK0=(J - K),\n",
    "                    weights=weights,\n",
    "                )\n",
    "\n",
    "                pbar = tqdm(total=len(all_locations), position=0, leave=True)\n",
    "\n",
    "                if parallelize:\n",
    "                    with mp.Pool(Nthreads) as p:\n",
    "                        effsel_array = p.map(\n",
    "                            effsel_per_loc, range(len(all_locations))\n",
    "                        )\n",
    "\n",
    "                else:\n",
    "                    for i in range(len(all_locations)):\n",
    "                        effsel_array[i] = effsel_per_loc(i)\n",
    "\n",
    "                print(f\"Saving {fname}\")\n",
    "                np.savez(fname, np.array(effsel_array))\n",
    "            else:\n",
    "                print(\"Already done.\")\n",
    "\n",
    "        bini += 1"
   ]
  },
  {
   "cell_type": "markdown",
   "metadata": {},
   "source": [
    "### Concatenate the selection function for each bin into one total file"
   ]
  },
  {
   "cell_type": "code",
   "execution_count": null,
   "metadata": {},
   "outputs": [],
   "source": [
    "# Concatenate into one total file\n",
    "all_effels = []\n",
    "\n",
    "bini = 0\n",
    "for i_f, f in enumerate(feh_bins_center):\n",
    "    for i_a, a in enumerate(age_bins_center):\n",
    "        fname = f\"selfuncs/effsel_bins/{savename}_{bini}.npz\"\n",
    "        effsel_bini = np.load(fname)[\"arr_0\"]\n",
    "        all_effels.append(effsel_bini)\n",
    "        bini += 1\n",
    "\n",
    "np.savez(\"selfuncs/effsel_allbins.npz\", np.array(all_effels))"
   ]
  }
 ],
 "metadata": {
  "kernelspec": {
   "display_name": "Python 3 (ipykernel)",
   "language": "python",
   "name": "python3"
  },
  "language_info": {
   "codemirror_mode": {
    "name": "ipython",
    "version": 3
   },
   "file_extension": ".py",
   "mimetype": "text/x-python",
   "name": "python",
   "nbconvert_exporter": "python",
   "pygments_lexer": "ipython3",
   "version": "3.10.14"
  }
 },
 "nbformat": 4,
 "nbformat_minor": 2
}
